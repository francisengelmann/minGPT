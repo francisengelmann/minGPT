{
 "cells": [
  {
   "cell_type": "markdown",
   "metadata": {},
   "source": [
    "A cute little demo showing the simplest usage of minGPT. Configured to run fine on Macbook Air in like a minute."
   ]
  },
  {
   "cell_type": "code",
   "execution_count": 1,
   "metadata": {},
   "outputs": [],
   "source": [
    "import torch\n",
    "from torch.utils.data import Dataset\n",
    "from torch.utils.data.dataloader import DataLoader\n",
    "from mingpt.utils import set_seed\n",
    "set_seed(3407)"
   ]
  },
  {
   "cell_type": "code",
   "execution_count": 2,
   "metadata": {},
   "outputs": [],
   "source": [
    "import pickle\n",
    "\n",
    "class SortDataset(Dataset):\n",
    "    \"\"\" \n",
    "    Dataset for the Sort problem. E.g. for problem length 6:\n",
    "    Input: 0 0 2 1 0 1 -> Output: 0 0 0 1 1 2\n",
    "    Which will feed into the transformer concatenated as:\n",
    "    input:  0 0 2 1 0 1   0 0 0 1 1\n",
    "    output: I I I I I   0 0 0 1 1 2\n",
    "    where I is \"ignore\", as the transformer is reading the input sequence\n",
    "    \"\"\"\n",
    "\n",
    "    def __init__(self, split, length=6, num_digits=3):\n",
    "        assert split in {'train', 'test'}\n",
    "        self.split = split\n",
    "        self.length = length\n",
    "        self.num_digits = num_digits\n",
    "    \n",
    "    def __len__(self):\n",
    "        return 50000 # ...\n",
    "    \n",
    "    def get_vocab_size(self):\n",
    "        return self.num_digits\n",
    "    \n",
    "    def get_block_size(self):\n",
    "        # the length of the sequence that will feed into transformer, \n",
    "        # containing concatenated input and the output, but -1 because\n",
    "        # the transformer starts making predictions at the last input element\n",
    "        return self.length * 2 - 1\n",
    "\n",
    "    def __getitem__(self, idx):\n",
    "        \n",
    "        # use rejection sampling to generate an input example from the desired split\n",
    "        while True:\n",
    "            # generate some random integers\n",
    "            inp = torch.randint(self.num_digits, size=(self.length,), dtype=torch.long)\n",
    "            # half of the time let's try to boost the number of examples that \n",
    "            # have a large number of repeats, as this is what the model seems to struggle\n",
    "            # with later in training, and they are kind of rate\n",
    "            if torch.rand(1).item() < 0.5:\n",
    "                if inp.unique().nelement() > self.length // 2:\n",
    "                    # too many unqiue digits, re-sample\n",
    "                    continue\n",
    "            # figure out if this generated example is train or test based on its hash\n",
    "            h = hash(pickle.dumps(inp.tolist()))\n",
    "            inp_split = 'test' if h % 4 == 0 else 'train' # designate 25% of examples as test\n",
    "            if inp_split == self.split:\n",
    "                break # ok\n",
    "        \n",
    "        # solve the task: i.e. sort\n",
    "        sol = torch.sort(inp)[0]\n",
    "\n",
    "        # concatenate the problem specification and the solution\n",
    "        cat = torch.cat((inp, sol), dim=0)\n",
    "\n",
    "        # the inputs to the transformer will be the offset sequence\n",
    "        x = cat[:-1].clone()\n",
    "        y = cat[1:].clone()\n",
    "        # we only want to predict at output locations, mask out the loss at the input locations\n",
    "        y[:self.length-1] = -1\n",
    "        return x, y\n"
   ]
  },
  {
   "cell_type": "code",
   "execution_count": 3,
   "metadata": {},
   "outputs": [
    {
     "name": "stdout",
     "output_type": "stream",
     "text": [
      "3 -1\n",
      "4 -1\n",
      "3 -1\n",
      "5 -1\n",
      "7 -1\n",
      "6 3\n",
      "3 3\n",
      "3 4\n",
      "4 5\n",
      "5 6\n",
      "6 7\n"
     ]
    }
   ],
   "source": [
    "# print an example instance of the dataset\n",
    "train_dataset = SortDataset('train', num_digits=8)\n",
    "test_dataset = SortDataset('test')\n",
    "x, y = train_dataset[0]\n",
    "for a, b in zip(x,y):\n",
    "    print(int(a),int(b))"
   ]
  },
  {
   "cell_type": "code",
   "execution_count": 4,
   "metadata": {},
   "outputs": [
    {
     "name": "stdout",
     "output_type": "stream",
     "text": [
      "number of parameters: 0.09M\n"
     ]
    }
   ],
   "source": [
    "# create a GPT instance\n",
    "from mingpt.model import GPT\n",
    "\n",
    "model_config = GPT.get_default_config()\n",
    "model_config.model_type = 'gpt-nano'\n",
    "model_config.vocab_size = train_dataset.get_vocab_size()\n",
    "model_config.block_size = train_dataset.get_block_size()\n",
    "model = GPT(model_config)"
   ]
  },
  {
   "cell_type": "code",
   "execution_count": 5,
   "metadata": {},
   "outputs": [
    {
     "name": "stdout",
     "output_type": "stream",
     "text": [
      "running on device cuda\n"
     ]
    }
   ],
   "source": [
    "# create a Trainer object\n",
    "from mingpt.trainer import Trainer\n",
    "\n",
    "train_config = Trainer.get_default_config()\n",
    "train_config.learning_rate = 5e-4 # the model we're using is so small that we can go a bit faster\n",
    "train_config.max_iters = 10000\n",
    "train_config.num_workers = 0\n",
    "trainer = Trainer(train_config, model, train_dataset)"
   ]
  },
  {
   "cell_type": "code",
   "execution_count": 6,
   "metadata": {},
   "outputs": [
    {
     "name": "stdout",
     "output_type": "stream",
     "text": [
      "iter_dt 0.00ms; iter 0: train loss 2.10024\n",
      "iter_dt 9.64ms; iter 100: train loss 0.86952\n",
      "iter_dt 12.77ms; iter 200: train loss 0.31908\n",
      "iter_dt 11.71ms; iter 300: train loss 0.19349\n",
      "iter_dt 9.72ms; iter 400: train loss 0.11869\n",
      "iter_dt 10.97ms; iter 500: train loss 0.09387\n",
      "iter_dt 12.58ms; iter 600: train loss 0.17116\n",
      "iter_dt 12.83ms; iter 700: train loss 0.08932\n",
      "iter_dt 9.27ms; iter 800: train loss 0.09567\n",
      "iter_dt 11.45ms; iter 900: train loss 0.07035\n",
      "iter_dt 11.65ms; iter 1000: train loss 0.05385\n",
      "iter_dt 12.50ms; iter 1100: train loss 0.07353\n",
      "iter_dt 9.02ms; iter 1200: train loss 0.07902\n",
      "iter_dt 11.30ms; iter 1300: train loss 0.04990\n",
      "iter_dt 9.90ms; iter 1400: train loss 0.06348\n",
      "iter_dt 10.12ms; iter 1500: train loss 0.03312\n",
      "iter_dt 12.29ms; iter 1600: train loss 0.03949\n",
      "iter_dt 10.08ms; iter 1700: train loss 0.05829\n",
      "iter_dt 11.87ms; iter 1800: train loss 0.04765\n",
      "iter_dt 11.93ms; iter 1900: train loss 0.02255\n",
      "iter_dt 9.97ms; iter 2000: train loss 0.04283\n",
      "iter_dt 12.64ms; iter 2100: train loss 0.05093\n",
      "iter_dt 10.01ms; iter 2200: train loss 0.01404\n",
      "iter_dt 12.32ms; iter 2300: train loss 0.03639\n",
      "iter_dt 12.69ms; iter 2400: train loss 0.01582\n",
      "iter_dt 12.17ms; iter 2500: train loss 0.01216\n",
      "iter_dt 11.15ms; iter 2600: train loss 0.03056\n",
      "iter_dt 9.71ms; iter 2700: train loss 0.01516\n",
      "iter_dt 9.67ms; iter 2800: train loss 0.04283\n",
      "iter_dt 9.60ms; iter 2900: train loss 0.04499\n",
      "iter_dt 11.38ms; iter 3000: train loss 0.02531\n",
      "iter_dt 9.54ms; iter 3100: train loss 0.03501\n",
      "iter_dt 9.16ms; iter 3200: train loss 0.02077\n",
      "iter_dt 12.35ms; iter 3300: train loss 0.05164\n",
      "iter_dt 9.87ms; iter 3400: train loss 0.01442\n",
      "iter_dt 12.16ms; iter 3500: train loss 0.06013\n",
      "iter_dt 12.53ms; iter 3600: train loss 0.01022\n",
      "iter_dt 10.52ms; iter 3700: train loss 0.02693\n",
      "iter_dt 9.61ms; iter 3800: train loss 0.01128\n",
      "iter_dt 9.07ms; iter 3900: train loss 0.00633\n",
      "iter_dt 10.31ms; iter 4000: train loss 0.02170\n",
      "iter_dt 9.07ms; iter 4100: train loss 0.02756\n",
      "iter_dt 12.35ms; iter 4200: train loss 0.01340\n",
      "iter_dt 10.49ms; iter 4300: train loss 0.01323\n",
      "iter_dt 8.97ms; iter 4400: train loss 0.03367\n",
      "iter_dt 9.76ms; iter 4500: train loss 0.00626\n",
      "iter_dt 11.92ms; iter 4600: train loss 0.00589\n",
      "iter_dt 11.47ms; iter 4700: train loss 0.00895\n",
      "iter_dt 12.00ms; iter 4800: train loss 0.00298\n",
      "iter_dt 11.96ms; iter 4900: train loss 0.00940\n",
      "iter_dt 11.70ms; iter 5000: train loss 0.00915\n",
      "iter_dt 10.44ms; iter 5100: train loss 0.03081\n",
      "iter_dt 9.33ms; iter 5200: train loss 0.02157\n",
      "iter_dt 11.48ms; iter 5300: train loss 0.02040\n",
      "iter_dt 11.22ms; iter 5400: train loss 0.02642\n",
      "iter_dt 12.29ms; iter 5500: train loss 0.00385\n",
      "iter_dt 7.77ms; iter 5600: train loss 0.02068\n",
      "iter_dt 10.79ms; iter 5700: train loss 0.00377\n",
      "iter_dt 8.03ms; iter 5800: train loss 0.00432\n",
      "iter_dt 8.03ms; iter 5900: train loss 0.00519\n",
      "iter_dt 10.62ms; iter 6000: train loss 0.00493\n",
      "iter_dt 11.62ms; iter 6100: train loss 0.01177\n",
      "iter_dt 12.51ms; iter 6200: train loss 0.01960\n",
      "iter_dt 11.58ms; iter 6300: train loss 0.00644\n",
      "iter_dt 9.05ms; iter 6400: train loss 0.01464\n",
      "iter_dt 12.31ms; iter 6500: train loss 0.00843\n",
      "iter_dt 9.14ms; iter 6600: train loss 0.01227\n",
      "iter_dt 11.75ms; iter 6700: train loss 0.00855\n",
      "iter_dt 12.12ms; iter 6800: train loss 0.03164\n",
      "iter_dt 8.98ms; iter 6900: train loss 0.00892\n",
      "iter_dt 12.47ms; iter 7000: train loss 0.02018\n",
      "iter_dt 12.08ms; iter 7100: train loss 0.01794\n",
      "iter_dt 11.10ms; iter 7200: train loss 0.00837\n",
      "iter_dt 9.14ms; iter 7300: train loss 0.01831\n",
      "iter_dt 7.75ms; iter 7400: train loss 0.00927\n",
      "iter_dt 10.89ms; iter 7500: train loss 0.02077\n",
      "iter_dt 9.22ms; iter 7600: train loss 0.00156\n",
      "iter_dt 10.78ms; iter 7700: train loss 0.01197\n",
      "iter_dt 12.43ms; iter 7800: train loss 0.01550\n",
      "iter_dt 9.47ms; iter 7900: train loss 0.00744\n",
      "iter_dt 12.30ms; iter 8000: train loss 0.00691\n",
      "iter_dt 12.39ms; iter 8100: train loss 0.00502\n",
      "iter_dt 10.15ms; iter 8200: train loss 0.00232\n",
      "iter_dt 8.23ms; iter 8300: train loss 0.00805\n",
      "iter_dt 12.70ms; iter 8400: train loss 0.00532\n",
      "iter_dt 11.87ms; iter 8500: train loss 0.02801\n",
      "iter_dt 9.24ms; iter 8600: train loss 0.00409\n",
      "iter_dt 10.63ms; iter 8700: train loss 0.01107\n",
      "iter_dt 12.05ms; iter 8800: train loss 0.01339\n",
      "iter_dt 11.88ms; iter 8900: train loss 0.01226\n",
      "iter_dt 11.52ms; iter 9000: train loss 0.00232\n",
      "iter_dt 9.71ms; iter 9100: train loss 0.00343\n",
      "iter_dt 8.69ms; iter 9200: train loss 0.00111\n",
      "iter_dt 11.61ms; iter 9300: train loss 0.00849\n",
      "iter_dt 8.83ms; iter 9400: train loss 0.00099\n",
      "iter_dt 12.52ms; iter 9500: train loss 0.01558\n",
      "iter_dt 9.75ms; iter 9600: train loss 0.02784\n",
      "iter_dt 11.73ms; iter 9700: train loss 0.00334\n",
      "iter_dt 9.63ms; iter 9800: train loss 0.01698\n",
      "iter_dt 11.72ms; iter 9900: train loss 0.00101\n"
     ]
    }
   ],
   "source": [
    "def batch_end_callback(trainer):\n",
    "    if trainer.iter_num % 100 == 0:\n",
    "        print(f\"iter_dt {trainer.iter_dt * 1000:.2f}ms; iter {trainer.iter_num}: train loss {trainer.loss.item():.5f}\")\n",
    "trainer.set_callback('on_batch_end', batch_end_callback)\n",
    "\n",
    "trainer.run()"
   ]
  },
  {
   "cell_type": "code",
   "execution_count": 54,
   "metadata": {},
   "outputs": [],
   "source": [
    "# now let's perform some evaluation\n",
    "model.eval();"
   ]
  },
  {
   "cell_type": "code",
   "execution_count": 67,
   "metadata": {},
   "outputs": [
    {
     "ename": "RuntimeError",
     "evalue": "CUDA error: device-side assert triggered\nCUDA kernel errors might be asynchronously reported at some other API call, so the stacktrace below might be incorrect.\nFor debugging consider passing CUDA_LAUNCH_BLOCKING=1.\nCompile with `TORCH_USE_CUDA_DSA` to enable device-side assertions.\n",
     "output_type": "error",
     "traceback": [
      "\u001b[0;31m---------------------------------------------------------------------------\u001b[0m",
      "\u001b[0;31mRuntimeError\u001b[0m                              Traceback (most recent call last)",
      "Cell \u001b[0;32mIn[67], line 31\u001b[0m\n\u001b[1;32m     29\u001b[0m \u001b[38;5;66;03m# run a lot of examples from both train and test through the model and verify the output correctness\u001b[39;00m\n\u001b[1;32m     30\u001b[0m \u001b[38;5;28;01mwith\u001b[39;00m torch\u001b[38;5;241m.\u001b[39mno_grad():\n\u001b[0;32m---> 31\u001b[0m     train_score \u001b[38;5;241m=\u001b[39m \u001b[43meval_split\u001b[49m\u001b[43m(\u001b[49m\u001b[43mtrainer\u001b[49m\u001b[43m,\u001b[49m\u001b[43m \u001b[49m\u001b[38;5;124;43m'\u001b[39;49m\u001b[38;5;124;43mtrain\u001b[39;49m\u001b[38;5;124;43m'\u001b[39;49m\u001b[43m,\u001b[49m\u001b[43m \u001b[49m\u001b[43mmax_batches\u001b[49m\u001b[38;5;241;43m=\u001b[39;49m\u001b[38;5;241;43m50\u001b[39;49m\u001b[43m)\u001b[49m\n\u001b[1;32m     32\u001b[0m     test_score  \u001b[38;5;241m=\u001b[39m eval_split(trainer, \u001b[38;5;124m'\u001b[39m\u001b[38;5;124mtest\u001b[39m\u001b[38;5;124m'\u001b[39m,  max_batches\u001b[38;5;241m=\u001b[39m\u001b[38;5;241m50\u001b[39m)\n",
      "Cell \u001b[0;32mIn[67], line 8\u001b[0m, in \u001b[0;36meval_split\u001b[0;34m(trainer, split, max_batches)\u001b[0m\n\u001b[1;32m      6\u001b[0m loader \u001b[38;5;241m=\u001b[39m DataLoader(dataset, batch_size\u001b[38;5;241m=\u001b[39m\u001b[38;5;241m100\u001b[39m, num_workers\u001b[38;5;241m=\u001b[39m\u001b[38;5;241m0\u001b[39m, drop_last\u001b[38;5;241m=\u001b[39m\u001b[38;5;28;01mFalse\u001b[39;00m)\n\u001b[1;32m      7\u001b[0m \u001b[38;5;28;01mfor\u001b[39;00m b, (x, y) \u001b[38;5;129;01min\u001b[39;00m \u001b[38;5;28menumerate\u001b[39m(loader):\n\u001b[0;32m----> 8\u001b[0m     x \u001b[38;5;241m=\u001b[39m \u001b[43mx\u001b[49m\u001b[38;5;241;43m.\u001b[39;49m\u001b[43mto\u001b[49m\u001b[43m(\u001b[49m\u001b[43mtrainer\u001b[49m\u001b[38;5;241;43m.\u001b[39;49m\u001b[43mdevice\u001b[49m\u001b[43m)\u001b[49m\n\u001b[1;32m      9\u001b[0m     y \u001b[38;5;241m=\u001b[39m y\u001b[38;5;241m.\u001b[39mto(trainer\u001b[38;5;241m.\u001b[39mdevice)\n\u001b[1;32m     10\u001b[0m     \u001b[38;5;66;03m# isolate the input pattern alone\u001b[39;00m\n",
      "\u001b[0;31mRuntimeError\u001b[0m: CUDA error: device-side assert triggered\nCUDA kernel errors might be asynchronously reported at some other API call, so the stacktrace below might be incorrect.\nFor debugging consider passing CUDA_LAUNCH_BLOCKING=1.\nCompile with `TORCH_USE_CUDA_DSA` to enable device-side assertions.\n"
     ]
    }
   ],
   "source": [
    "def eval_split(trainer, split, max_batches):\n",
    "    dataset = {'train':train_dataset, 'test':test_dataset}[split]\n",
    "    n = train_dataset.length # naugy direct access shrug\n",
    "    results = []\n",
    "    mistakes_printed_already = 0\n",
    "    loader = DataLoader(dataset, batch_size=100, num_workers=0, drop_last=False)\n",
    "    for b, (x, y) in enumerate(loader):\n",
    "        x = x.to(trainer.device)\n",
    "        y = y.to(trainer.device)\n",
    "        # isolate the input pattern alone\n",
    "        inp = x[:, :n]\n",
    "        sol = y[:, -n:]\n",
    "        # let the model sample the rest of the sequence\n",
    "        cat = model.generate(inp, n, do_sample=False) # using greedy argmax, not sampling\n",
    "        sol_candidate = cat[:, n:] # isolate the filled in sequence\n",
    "        # compare the predicted sequence to the true sequence\n",
    "        correct = (sol == sol_candidate).all(1).cpu() # Software 1.0 vs. Software 2.0 fight RIGHT on this line haha\n",
    "        for i in range(x.size(0)):\n",
    "            results.append(int(correct[i]))\n",
    "            if not correct[i] and mistakes_printed_already < 3: # only print up to 5 mistakes to get a sense\n",
    "                mistakes_printed_already += 1\n",
    "                print(\"GPT claims that %s sorted is %s but gt is %s\" % (inp[i].tolist(), sol_candidate[i].tolist(), sol[i].tolist()))\n",
    "        if max_batches is not None and b+1 >= max_batches:\n",
    "            break\n",
    "    rt = torch.tensor(results, dtype=torch.float)\n",
    "    print(\"%s final score: %d/%d = %.2f%% correct\" % (split, rt.sum(), len(results), 100*rt.mean()))\n",
    "    return rt.sum()\n",
    "\n",
    "# run a lot of examples from both train and test through the model and verify the output correctness\n",
    "with torch.no_grad():\n",
    "    train_score = eval_split(trainer, 'train', max_batches=50)\n",
    "    test_score  = eval_split(trainer, 'test',  max_batches=50)"
   ]
  },
  {
   "cell_type": "code",
   "execution_count": 66,
   "metadata": {},
   "outputs": [
    {
     "ename": "RuntimeError",
     "evalue": "CUDA error: device-side assert triggered\nCUDA kernel errors might be asynchronously reported at some other API call, so the stacktrace below might be incorrect.\nFor debugging consider passing CUDA_LAUNCH_BLOCKING=1.\nCompile with `TORCH_USE_CUDA_DSA` to enable device-side assertions.\n",
     "output_type": "error",
     "traceback": [
      "\u001b[0;31m---------------------------------------------------------------------------\u001b[0m",
      "\u001b[0;31mRuntimeError\u001b[0m                              Traceback (most recent call last)",
      "Cell \u001b[0;32mIn[66], line 3\u001b[0m\n\u001b[1;32m      1\u001b[0m \u001b[38;5;66;03m# let's run a random given sequence through the model as well\u001b[39;00m\n\u001b[1;32m      2\u001b[0m n \u001b[38;5;241m=\u001b[39m train_dataset\u001b[38;5;241m.\u001b[39mlength \u001b[38;5;66;03m# naugy direct access shrug\u001b[39;00m\n\u001b[0;32m----> 3\u001b[0m inp \u001b[38;5;241m=\u001b[39m \u001b[43mtorch\u001b[49m\u001b[38;5;241;43m.\u001b[39;49m\u001b[43mtensor\u001b[49m\u001b[43m(\u001b[49m\u001b[43m[\u001b[49m\u001b[43m[\u001b[49m\u001b[38;5;241;43m0\u001b[39;49m\u001b[43m,\u001b[49m\u001b[43m \u001b[49m\u001b[38;5;241;43m0\u001b[39;49m\u001b[43m,\u001b[49m\u001b[43m \u001b[49m\u001b[38;5;241;43m2\u001b[39;49m\u001b[43m,\u001b[49m\u001b[43m \u001b[49m\u001b[38;5;241;43m1\u001b[39;49m\u001b[43m,\u001b[49m\u001b[43m \u001b[49m\u001b[38;5;241;43m0\u001b[39;49m\u001b[43m,\u001b[49m\u001b[43m \u001b[49m\u001b[38;5;241;43m1\u001b[39;49m\u001b[43m]\u001b[49m\u001b[43m]\u001b[49m\u001b[43m,\u001b[49m\u001b[43m \u001b[49m\u001b[43mdtype\u001b[49m\u001b[38;5;241;43m=\u001b[39;49m\u001b[43mtorch\u001b[49m\u001b[38;5;241;43m.\u001b[39;49m\u001b[43mlong\u001b[49m\u001b[43m)\u001b[49m\u001b[38;5;241;43m.\u001b[39;49m\u001b[43mto\u001b[49m\u001b[43m(\u001b[49m\u001b[43mtrainer\u001b[49m\u001b[38;5;241;43m.\u001b[39;49m\u001b[43mdevice\u001b[49m\u001b[43m)\u001b[49m\n\u001b[1;32m      4\u001b[0m \u001b[38;5;66;03m# inp = torch.tensor([[0, 3, 2, 5, 7, 1]], dtype=torch.long).to(trainer.device)\u001b[39;00m\n\u001b[1;32m      5\u001b[0m \u001b[38;5;28;01massert\u001b[39;00m inp[\u001b[38;5;241m0\u001b[39m]\u001b[38;5;241m.\u001b[39mnelement() \u001b[38;5;241m==\u001b[39m n\n",
      "\u001b[0;31mRuntimeError\u001b[0m: CUDA error: device-side assert triggered\nCUDA kernel errors might be asynchronously reported at some other API call, so the stacktrace below might be incorrect.\nFor debugging consider passing CUDA_LAUNCH_BLOCKING=1.\nCompile with `TORCH_USE_CUDA_DSA` to enable device-side assertions.\n"
     ]
    }
   ],
   "source": [
    "# let's run a random given sequence through the model as well\n",
    "n = train_dataset.length # naugy direct access shrug\n",
    "inp = torch.tensor([[0, 0, 2, 1, 0, 1]], dtype=torch.long).to(trainer.device)\n",
    "# inp = torch.tensor([[0, 3, 2, 5, 7, 1]], dtype=torch.long).to(trainer.device)\n",
    "assert inp[0].nelement() == n\n",
    "with torch.no_grad():\n",
    "    cat = model.generate(inp, n, do_sample=False)\n",
    "sol = torch.sort(inp[0])[0]\n",
    "sol_candidate = cat[:, n:]\n",
    "print('input sequence  :', inp.tolist())\n",
    "print('predicted sorted:', sol_candidate.tolist())\n",
    "print('gt sort         :', sol.tolist())\n",
    "print('matches         :', bool((sol == sol_candidate).all()))"
   ]
  },
  {
   "cell_type": "code",
   "execution_count": null,
   "metadata": {},
   "outputs": [],
   "source": []
  }
 ],
 "metadata": {
  "kernelspec": {
   "display_name": "Python 3.10.4 64-bit",
   "language": "python",
   "name": "python3"
  },
  "language_info": {
   "codemirror_mode": {
    "name": "ipython",
    "version": 3
   },
   "file_extension": ".py",
   "mimetype": "text/x-python",
   "name": "python",
   "nbconvert_exporter": "python",
   "pygments_lexer": "ipython3",
   "version": "3.10.14"
  },
  "orig_nbformat": 4,
  "vscode": {
   "interpreter": {
    "hash": "3ad933181bd8a04b432d3370b9dc3b0662ad032c4dfaa4e4f1596c548f763858"
   }
  }
 },
 "nbformat": 4,
 "nbformat_minor": 2
}
